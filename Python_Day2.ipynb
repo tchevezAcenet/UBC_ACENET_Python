{
 "cells": [
  {
   "cell_type": "markdown",
   "id": "dfd553b6-b5c1-4d1a-b00e-77a8c2061155",
   "metadata": {},
   "source": [
    "# Introductory Programming with Python (Part 2)"
   ]
  },
  {
   "cell_type": "markdown",
   "id": "8d032287-3c07-4979-b240-06b8657682b5",
   "metadata": {},
   "source": [
    "### Loops\n",
    "**Loops** allow us to repeat a block of code multiple times. This is especially useful when we have to process a collection of items, like a list of temperature readings or salinity measurements. The two primary types of loops in Python are ***for loops*** and ***while loops***.\n",
    "\n",
    "#### For Loops:\n",
    "A ***for loop*** is used to iterate over a sequence (like a list or a tuple). Here’s the basic structure:"
   ]
  },
  {
   "cell_type": "raw",
   "id": "398da884-e7f1-4ebc-aa33-c2090cd4dcb0",
   "metadata": {},
   "source": [
    "for item in sequence:\n",
    "    # Code to execute for each item"
   ]
  },
  {
   "cell_type": "markdown",
   "id": "60eac3a0-0f07-4b18-8066-a90c8bc54ca6",
   "metadata": {},
   "source": [
    "Let’s say we want to print out each survey response score from a list:"
   ]
  },
  {
   "cell_type": "code",
   "execution_count": 1,
   "id": "3cbb0510-5498-4368-af70-4a30f84f647c",
   "metadata": {},
   "outputs": [],
   "source": [
    "#Your code goes here"
   ]
  },
  {
   "cell_type": "markdown",
   "id": "5ab17832-db2f-4d89-8fdf-c5a39d448274",
   "metadata": {},
   "source": [
    "In this example, the loop goes through each item in the **survey_scores** list and prints it.\n",
    "\n",
    "For loops are useful for analyzing data, such as calculating the average monthly income from several months:"
   ]
  },
  {
   "cell_type": "code",
   "execution_count": 2,
   "id": "55a55814-5717-44dd-bf43-ba3a34715cf0",
   "metadata": {},
   "outputs": [],
   "source": [
    "monthly_incomes = [3000, 3200, 3100, 2900, 4000, 3500, 2500, 2900, 3050, 3200, 3500, 2950]\n",
    "#Your code goes here"
   ]
  },
  {
   "cell_type": "markdown",
   "id": "30684707-4a17-439a-b433-04ac7057b93b",
   "metadata": {},
   "source": [
    "In this case, the loop adds up all the monthly incomes and then finds the average by dividing by the number of months."
   ]
  },
  {
   "cell_type": "markdown",
   "id": "8cae9e67-e56b-4f2f-ab5a-0a197cb563ed",
   "metadata": {},
   "source": [
    "### Exercise\n",
    "\n",
    "1. You are given a list named populations that contains population numbers (in thousands).\n",
    "2. Use a for loop to add all the population numbers together and store the total in a variable called total_population.\n",
    "3. Calculate the average population by dividing the total population.\n",
    "4. Print the average population rounded to the nearest whole number."
   ]
  },
  {
   "cell_type": "code",
   "execution_count": 3,
   "id": "c6932f1f-516c-4900-9867-bda0cc6d86eb",
   "metadata": {},
   "outputs": [],
   "source": [
    "populations = [2731, 631, 1135, 934, 1705]\n",
    "\n",
    "#Your code goes here"
   ]
  },
  {
   "cell_type": "markdown",
   "id": "be618183-3f88-4c10-b077-776073b7cfa3",
   "metadata": {},
   "source": [
    "#### While Loops\n",
    "A while loop continues to execute as long as a specified condition is true. The basic structure looks like this:"
   ]
  },
  {
   "cell_type": "raw",
   "id": "c33f44f1-3d51-41fc-ab80-94718843339d",
   "metadata": {},
   "source": [
    "while condition:\n",
    "    # Code to execute while the condition is true"
   ]
  },
  {
   "cell_type": "markdown",
   "id": "e4f22bc8-863e-41e1-9b86-0054782742de",
   "metadata": {},
   "source": [
    "Let’s say we want to keep recording monthly expenses until we have data for five months:"
   ]
  },
  {
   "cell_type": "code",
   "execution_count": 4,
   "id": "b44ea664-a0b0-404a-b4df-9ba3548a46a3",
   "metadata": {},
   "outputs": [],
   "source": [
    "#Your code goes here"
   ]
  },
  {
   "cell_type": "markdown",
   "id": "ffb73c76-259a-43d0-89ff-410e05491d10",
   "metadata": {},
   "source": [
    "In this example, the loop keeps asking for monthly expenses until it has collected five amounts.\n",
    "\n",
    "While loops are useful for continuous data collection, like tracking monthly donations until reaching a target amount:"
   ]
  },
  {
   "cell_type": "code",
   "execution_count": 5,
   "id": "e8431add-4c75-4913-abf3-63065a1d3a8b",
   "metadata": {},
   "outputs": [],
   "source": [
    "#Your code goes here"
   ]
  },
  {
   "cell_type": "markdown",
   "id": "5d308b6c-3b22-483c-b6ae-77453ff91548",
   "metadata": {},
   "source": [
    "### Combining Loops and Conditionals\n",
    "Often, we will need to use both loops and conditionals together to process data effectively. For example, you might want to analyze temperature readings and categorize them within a loop.\n",
    "\n",
    "Let’s categorize a list of temperature readings as *\"Cold,\" \"Warm,\" or \"Hot\"*:"
   ]
  },
  {
   "cell_type": "code",
   "execution_count": 6,
   "id": "79c8a1df-ef5d-4265-8379-047f019af117",
   "metadata": {},
   "outputs": [],
   "source": [
    "#Your code goes here"
   ]
  },
  {
   "cell_type": "markdown",
   "id": "d60cebea-4732-4548-a0ae-347ec7a49a57",
   "metadata": {},
   "source": [
    "In this example, the loop goes through each temperature reading, and the conditional statements categorize each temperature accordingly."
   ]
  },
  {
   "cell_type": "markdown",
   "id": "47b1ae88-4f29-404a-b650-0a35fa4811e1",
   "metadata": {},
   "source": [
    "## Functions\n",
    "In programming, **functions** are reusable blocks of code designed to perform a specific task. They help break down complex problems into smaller, manageable parts, making your code cleaner, easier to read, and more efficient. Functions promote the DRY (Don't Repeat Yourself) principle, which encourages code reusability.\n",
    "\n",
    "### Defining a Function\n",
    "To define a function, follow this basic syntax:"
   ]
  },
  {
   "cell_type": "raw",
   "id": "4ef792ec-b814-4393-ae3d-43b10bd1e5c2",
   "metadata": {},
   "source": [
    "def function_name(parameters):\n",
    "    \"\"\"Docstring (optional): Describes the function's purpose.\"\"\"\n",
    "    # Function body\n",
    "    return result  # (optional)"
   ]
  },
  {
   "cell_type": "markdown",
   "id": "8374d848-a7ce-42b0-9f8f-cdb054ed42ba",
   "metadata": {},
   "source": [
    "In Python, a function is defined using the ***def*** keyword followed by the function name and parentheses, which may contain *parameters*.\n",
    "\n",
    "For example, ***def function_name(parameters):*** starts the definition, where the parameters allow you to pass input values.\n",
    "\n",
    "A *docstring* can be included right after the function definition in triple quotes to describe the function's purpose, helping users understand its functionality. \n",
    "\n",
    "The main code of the function, known as the *function body*, is indented and contains the operations that the function performs. \n",
    "\n",
    "Finally, a *return statement* can be used to send a result back to the caller, allowing you to output a value from the function.\n",
    "\n",
    "Here’s a simple function that adds two numbers and one that substracts them:"
   ]
  },
  {
   "cell_type": "code",
   "execution_count": 7,
   "id": "81767aad-3665-49cb-9a6e-c9a999d42feb",
   "metadata": {},
   "outputs": [],
   "source": [
    "#Your code goes here"
   ]
  },
  {
   "cell_type": "markdown",
   "id": "dbee8213-c1dd-4177-9cba-35c1bdabd4ff",
   "metadata": {},
   "source": [
    "### Calling a Function\n",
    "Once a function is defined, you can call it by using its name followed by parentheses. If the function requires parameters, you need to provide them inside the parentheses."
   ]
  },
  {
   "cell_type": "code",
   "execution_count": 8,
   "id": "80f49eda-3dcd-409d-a2dc-1da7decd9ae7",
   "metadata": {},
   "outputs": [],
   "source": [
    "#Your code goes here"
   ]
  },
  {
   "cell_type": "markdown",
   "id": "c9bd680f-9984-466f-80fe-d4de69a9cf57",
   "metadata": {},
   "source": [
    "### Parameters and Arguments\n",
    "Functions can take parameters, which are placeholders for the values you pass into the function. When you call the function with actual values, those values are called arguments.\n",
    "\n",
    "You can define functions with:\n",
    "\n",
    "- **Positional Parameters:** These must be provided in the order defined.\n",
    "- **Keyword Arguments:** These allow you to specify which parameter you're providing by name.\n",
    "- **Default Parameters:** You can assign default values to parameters, which will be used if no argument is provided.\n"
   ]
  },
  {
   "cell_type": "code",
   "execution_count": 9,
   "id": "d9cd5a1e-8980-460c-a8d4-9b76544169d8",
   "metadata": {},
   "outputs": [],
   "source": [
    "#Your code goes here"
   ]
  },
  {
   "cell_type": "markdown",
   "id": "4a1f43ae-45d7-451a-bf49-531add566b50",
   "metadata": {},
   "source": [
    "**Explanation:**\n",
    "1. ***Positional Argument:*** In print(greet(\"Alice\")), only the positional argument is provided, so the default greeting \"Hello\" is used, resulting in \"Hello, Alice!\".\n",
    "\n",
    "2. ***Both Positional Arguments:*** In print(greet(\"Bob\", \"Hi\")), both \"Bob\" and \"Hi\" are positional arguments, where \"Bob\" corresponds to the name parameter and \"Hi\" corresponds to the greeting parameter. This results in \"Hi, Bob!\".\n",
    "\n",
    "3. ***Keyword Arguments:*** In print(greet(name=\"Charlie\", greeting=\"Welcome\")), both arguments are specified as keyword arguments. Here, name is explicitly set to \"Charlie\" and greeting is set to \"Welcome\", resulting in \"Welcome, Charlie!\".\n",
    "\n"
   ]
  },
  {
   "cell_type": "markdown",
   "id": "2d86532b-8ace-4f1a-90b6-a32d9f0ffd2a",
   "metadata": {},
   "source": [
    "### Scope of Variables\n",
    "Variables defined inside a function have local scope, meaning they cannot be accessed outside the function. Conversely, variables defined outside of a function have global scope."
   ]
  },
  {
   "cell_type": "code",
   "execution_count": 10,
   "id": "a6c0394d-b4db-4095-af0d-f85f5c98f9b9",
   "metadata": {},
   "outputs": [],
   "source": [
    "#Your code goes here"
   ]
  },
  {
   "cell_type": "markdown",
   "id": "0a33c193-0739-4bb7-98ac-82f12176f6da",
   "metadata": {},
   "source": [
    "**Explanation**\n",
    "\n",
    "1. **Local Variable (local_var):**\n",
    "\n",
    "- In example_function(), we define a variable called local_var inside the function. This variable is called local because it exists only within the function's scope (between the function’s def and the end of its block).\n",
    "- When we run example_function(), Python prints \"I'm local!\" as expected.\n",
    "- However, if we try to access local_var outside example_function() (for example, with print(local_var) outside the function), it will raise a NameError because local_var is not defined globally; it only exists within the function where it was created.\n",
    "\n",
    "2. **Global Variable (global_var):**\n",
    "\n",
    "- global_var is defined outside of any function, so it’s a global variable, accessible anywhere in the code.\n",
    "- Inside another_function(), we use print(global_var). Since global_var is global, this works even though it’s outside the function.\n",
    "- When we call another_function(), it prints \"I'm global!\" because global_var is accessible from both inside and outside the function."
   ]
  },
  {
   "cell_type": "markdown",
   "id": "53094866-2e95-4ed5-99c0-74209e0a3aab",
   "metadata": {},
   "source": [
    "### Importance of Functions\n",
    "Functions help with code organization and readability. They allow you to:\n",
    "\n",
    "- **Reuse Code:** Write a piece of code once and call it multiple times, avoiding redundancy.\n",
    "- **Enhance Readability:** Break code into logical sections that describe the functionality.\n",
    "- **Ease Maintenance:** Update one function instead of multiple code sections."
   ]
  },
  {
   "cell_type": "markdown",
   "id": "63e898b2-aee5-48d0-aa1c-47807c346346",
   "metadata": {},
   "source": [
    "## Modules\n",
    "In Python, a module is simply a file that contains Python code, typically functions, classes, and variables, which you can reuse in other programs. \n",
    "\n",
    "**Modules** help organize code, avoid repetition, and keep it easy to maintain. You can create your own module by saving a .py file with your code or use one of Python’s many built-in modules, like *math*, *datetime*, or *random*, which provide various functionalities."
   ]
  },
  {
   "cell_type": "markdown",
   "id": "03a90e65-84db-4ae1-9b17-f1a66dd6fc2a",
   "metadata": {},
   "source": [
    "### Importing Modules\n",
    "To use a module in your code, you import it using the import statement. For example:"
   ]
  },
  {
   "cell_type": "code",
   "execution_count": 11,
   "id": "15de8b8f-6c1e-4b0a-b187-9184d878697d",
   "metadata": {},
   "outputs": [],
   "source": [
    "#Your code goes here"
   ]
  },
  {
   "cell_type": "code",
   "execution_count": 12,
   "id": "32ee7377-bac9-4542-ac9d-6f9e1fe65b5e",
   "metadata": {},
   "outputs": [],
   "source": [
    "#Your code goes here"
   ]
  },
  {
   "cell_type": "markdown",
   "id": "5b24d495-ae7b-4d82-80ae-ec4759f48206",
   "metadata": {},
   "source": [
    "Here, we import the math module and then use its **sqrt()** function to calculate the square root of 16."
   ]
  },
  {
   "cell_type": "markdown",
   "id": "7d867cb2-841a-426c-b70d-49dc92c17676",
   "metadata": {},
   "source": [
    "### Importing Specific Functions\n",
    "If you only need specific functions from a module, you can import them directly:"
   ]
  },
  {
   "cell_type": "code",
   "execution_count": 13,
   "id": "8f3a2ab1-82e0-4239-a543-ea9765087633",
   "metadata": {},
   "outputs": [],
   "source": [
    "#Your code goes here"
   ]
  },
  {
   "cell_type": "markdown",
   "id": "9779022f-fe5c-4a34-a560-6b0fb6fd7737",
   "metadata": {},
   "source": [
    "This allows you to use pi and sqrt() directly without referencing math."
   ]
  },
  {
   "cell_type": "markdown",
   "id": "464fd48f-73e2-43ef-9618-cda2fcfa6bb4",
   "metadata": {},
   "source": [
    "### Custom Modules\n",
    "To create a custom module, you write Python code in a *.py* file. For example, if you have a file called **mymath.py** with the following content:"
   ]
  },
  {
   "cell_type": "raw",
   "id": "735baa5e-ca89-467a-9da3-aca58bc1ee7b",
   "metadata": {},
   "source": [
    "def add(a, b):\n",
    "    return a + b\n",
    "\n",
    "def subtract(a, b):\n",
    "    return a - b"
   ]
  },
  {
   "cell_type": "markdown",
   "id": "8374f2ad-abca-4a62-b459-0645de1faddb",
   "metadata": {},
   "source": [
    "You can import and use these functions in another Python file as follows:"
   ]
  },
  {
   "cell_type": "code",
   "execution_count": 14,
   "id": "da39ae39-3258-4e14-bffe-f9148ff1c95f",
   "metadata": {},
   "outputs": [],
   "source": [
    "#Your code goes here"
   ]
  },
  {
   "cell_type": "markdown",
   "id": "8a47144d-1254-40a0-a70d-a323760e6279",
   "metadata": {},
   "source": [
    "### Benefits of Using Modules\n",
    "- **Reusability:** Write code once and use it across multiple programs.\n",
    "- **Organization:** Helps keep code organized and readable, especially for large projects.\n",
    "- **Built-in Functionality:** Python’s standard library has many modules, so you don’t have to write everything from scratch."
   ]
  },
  {
   "cell_type": "markdown",
   "id": "6a5e414c-0c2a-44b4-917a-09eaaf99fd2b",
   "metadata": {},
   "source": [
    "## Introduction to Libraries\n",
    "\n",
    "In Python, a library is a collection of modules that provide reusable code to help programmers perform various tasks without having to write everything from scratch. Libraries enhance productivity by allowing developers to leverage existing functionality for common tasks, promoting efficiency and reducing redundancy in code."
   ]
  },
  {
   "cell_type": "markdown",
   "id": "12ba0679-9877-4482-96d5-b173fe39ccfd",
   "metadata": {},
   "source": [
    "### Examples of Popular Libraries\n",
    "- **NumPy:** A fundamental library for numerical computing, NumPy provides support for arrays and matrices, along with a wide range of mathematical functions.\n",
    "\n",
    "- **Pandas:** This library is invaluable for data analysis and manipulation. It allows users to work with structured data in the form of DataFrames and Series, making it ideal for handling large datasets.\n",
    "\n",
    "- **Matplotlib:** A powerful library for data visualization, Matplotlib enables users to create static, interactive, and animated visualizations to effectively present data insights."
   ]
  },
  {
   "cell_type": "markdown",
   "id": "fd3d4e7a-0353-43de-90c6-676b5c628c6f",
   "metadata": {},
   "source": [
    "Libraries are important tools in Python that help programmers work more efficiently. They provide ready-made code that can be reused, making it easier to complete common tasks without starting from scratch. By using libraries, developers can solve complicated problems more easily and concentrate on the bigger picture of their projects. "
   ]
  },
  {
   "cell_type": "markdown",
   "id": "4a154270-4446-4835-adc9-640e59c3a001",
   "metadata": {},
   "source": [
    "# Numpy\n",
    "\n",
    "NumPy, which stands for Numerical Python, is a powerful library in Python that helps with numerical and scientific computing. It allows you to work with large, multi-dimensional arrays (think of them as grids of numbers) and provides many mathematical functions to perform calculations on these arrays quickly and easily.\n",
    "\n",
    "### Why Use NumPy?\n",
    "- **Speed:** NumPy is much faster than using regular Python lists for numerical calculations. It’s written in C, which helps it run faster. When you use NumPy, you can perform operations on big sets of data quickly.\n",
    "\n",
    "- **Convenience:** With NumPy, you can do calculations on entire arrays without writing long loops. For example, adding two arrays together can be done in just one line of code.\n",
    "\n",
    "- **Useful Functions:** NumPy has many built-in functions for doing complex math. This is really helpful in fields like oceanography, where scientists need to work with large amounts of data and perform a lot of calculations."
   ]
  },
  {
   "cell_type": "markdown",
   "id": "ddb80f8d-5445-4bd9-ad7d-78ea3d826942",
   "metadata": {},
   "source": [
    "## Arrays\n",
    "An **array** is a list of items stored one after another in memory. In NumPy, an array is a collection of values arranged in a grid, where all values are the same type (like all numbers or all text)."
   ]
  },
  {
   "cell_type": "markdown",
   "id": "b13dd818-308f-4143-8003-7639eabc1097",
   "metadata": {},
   "source": [
    "To use NumPy, we first need to import it:"
   ]
  },
  {
   "cell_type": "code",
   "execution_count": 15,
   "id": "2f448804-737f-445f-af04-222045815330",
   "metadata": {},
   "outputs": [],
   "source": [
    "#Your code goes here"
   ]
  },
  {
   "cell_type": "markdown",
   "id": "5fff6a8f-04bc-4ba7-8a08-64e27b21fcdf",
   "metadata": {},
   "source": [
    "### Creating a 1D Array\n",
    "You can create a 1D array using the **np.array()** function. Here’s how:"
   ]
  },
  {
   "cell_type": "code",
   "execution_count": 16,
   "id": "53cd488e-fd1c-4a83-9d96-4f21a6ea44b8",
   "metadata": {},
   "outputs": [],
   "source": [
    "# Creating a 1D array\n",
    "\n",
    "#Your code goes here"
   ]
  },
  {
   "cell_type": "markdown",
   "id": "0a70516d-674c-4bb8-81ea-c98a9a822a1f",
   "metadata": {},
   "source": [
    "### Advantages of NumPy Arrays Over Python Lists\n",
    "- **Homogeneous:** All elements in a NumPy array must be of the same type, whereas Python lists can contain mixed types.\n",
    "- **Performance:** NumPy arrays are more memory efficient and faster for numerical computations compared to lists.\n",
    "- **Functionality:** NumPy provides a range of built-in functions that are specifically optimized for working with arrays."
   ]
  },
  {
   "cell_type": "markdown",
   "id": "1d23e56c-3cb5-4e0e-bddb-f63cf9758e27",
   "metadata": {},
   "source": [
    "### Creating a 2D Array\n",
    "To create a 2D array, pass a list of lists to **np.array()**:"
   ]
  },
  {
   "cell_type": "code",
   "execution_count": 17,
   "id": "bd0667d3-90d8-49a3-961e-4d9cab220e55",
   "metadata": {},
   "outputs": [],
   "source": [
    "# Creating a 2D array\n",
    "\n",
    "#Your code goes here"
   ]
  },
  {
   "cell_type": "markdown",
   "id": "1bac5a4e-3502-44ab-8992-c07b2a0374af",
   "metadata": {},
   "source": [
    "### Creating Arrays with Built-in Functions\n",
    "\n",
    "NumPy provides several built-in functions to create arrays quickly:\n",
    "\n",
    "- **np.zeros(shape)**: Creates an array filled with zeros.\n",
    "- **np.ones(shape)**: Creates an array filled with ones.\n",
    "- **np.arange(start, stop, step)**: Creates an array with a range of values.\n",
    "- **np.linspace(start, stop, num)**: Creates an array of evenly spaced numbers."
   ]
  },
  {
   "cell_type": "code",
   "execution_count": 18,
   "id": "50519dd5-bf9b-4e8d-89e8-f6b1d7adb397",
   "metadata": {},
   "outputs": [],
   "source": [
    "# Using built-in functions\n",
    "#Your code goes here"
   ]
  },
  {
   "cell_type": "markdown",
   "id": "c5d06b96-57d8-487b-b947-2e7b2f2f2a98",
   "metadata": {},
   "source": [
    "In this example:\n",
    "\n",
    "- **np.zeros((2, 3))** creates a 2x3 array filled with zeros.\n",
    "- **np.ones((2, 3))** creates a 2x3 array filled with ones.\n",
    "- **np.arange(0, 10, 2)** generates a 1D array with values from 0 to 10, stepping by 2.\n",
    "- **np.linspace(0, 1, 5)** creates an array of 5 evenly spaced numbers between 0 and 1.\n"
   ]
  },
  {
   "cell_type": "markdown",
   "id": "c425890d-935e-483e-ba80-382c5d3f5e1b",
   "metadata": {},
   "source": [
    "### Array Properties\n",
    "You can check important properties of a NumPy array, such as its shape, size, and data type:"
   ]
  },
  {
   "cell_type": "code",
   "execution_count": 19,
   "id": "b54027cd-ce85-4c89-a2dc-fbe39f11e6f0",
   "metadata": {},
   "outputs": [],
   "source": [
    "#Your code goes here"
   ]
  },
  {
   "cell_type": "markdown",
   "id": "280fb6b8-622a-4324-904d-91a263fe82c7",
   "metadata": {},
   "source": [
    "**This code retrieves:**\n",
    "\n",
    "- The shape of the 2D array, which tells you the dimensions (rows and columns).\n",
    "- The size of the array, indicating the total number of elements.\n",
    "- The data type of the elements in the array, which shows the kind of data stored (e.g., integers, floats)."
   ]
  },
  {
   "cell_type": "markdown",
   "id": "63b3278c-069d-48d7-8254-a393457838d7",
   "metadata": {},
   "source": [
    "### Basic Arithmetic Operations\n",
    "\n",
    "NumPy allows you to perform element-wise arithmetic operations on arrays:"
   ]
  },
  {
   "cell_type": "code",
   "execution_count": 20,
   "id": "01616da6-ee20-4c9d-a625-a920b18fd998",
   "metadata": {},
   "outputs": [],
   "source": [
    "# Element-wise addition\n",
    "#Your code goes here\n",
    "\n",
    "# Element-wise multiplication\n",
    "#Your code goes here"
   ]
  },
  {
   "cell_type": "markdown",
   "id": "4296c0ef-0b7a-429d-94d7-84eecf732e98",
   "metadata": {},
   "source": [
    "In this example, we create *two 1D arrays*, **arr_a** and **arr_b**, and add them together. \n",
    "\n",
    "Also, we perform element-wise multiplication. Each element of **arr_a** is multiplied by the corresponding element of **arr_b**, resulting in a new array of products."
   ]
  },
  {
   "cell_type": "markdown",
   "id": "7e740696-e6da-43e8-8eda-667698a05de9",
   "metadata": {},
   "source": [
    "### NumPy Universal Functions\n",
    "\n",
    "NumPy provides a variety of universal functions that operate element-wise on arrays. These functions include mathematical operations, trigonometric functions, and statistical calculations. Statistical functions are particularly useful for analyzing data and obtaining insights from numerical arrays.\n",
    "\n",
    "- **Mean:** Calculates the average value of the array elements.\n",
    "- **Median:** Finds the middle value when the elements are sorted.\n",
    "- **Standard Deviation:** Measures the amount of variation or dispersion in the dataset.\n",
    "\n",
    "Here’s how to use these functions:"
   ]
  },
  {
   "cell_type": "code",
   "execution_count": 35,
   "id": "c6ee7998-464e-4d47-a97a-56c4145f43b9",
   "metadata": {},
   "outputs": [],
   "source": [
    "data = np.array([1, 2, 3, 4, 5])\n",
    "\n",
    "#Your code goes here"
   ]
  },
  {
   "cell_type": "markdown",
   "id": "345e2aa6-c8f5-4eb2-8fe7-77f3ad0e8b69",
   "metadata": {},
   "source": [
    "We can also find the minimum and maximum values in an array:"
   ]
  },
  {
   "cell_type": "code",
   "execution_count": 22,
   "id": "fc25c3f8-bcd6-4ead-9346-44d0a04d84a3",
   "metadata": {},
   "outputs": [],
   "source": [
    "# Calculate minimum and maximum values\n",
    "#Your code goes here"
   ]
  },
  {
   "cell_type": "markdown",
   "id": "8c82b6e4-c4b6-48b8-b0a6-4b39f95a5af2",
   "metadata": {},
   "source": [
    "Also, we can compute the correlation coefficient between two datasets:"
   ]
  },
  {
   "cell_type": "code",
   "execution_count": 23,
   "id": "8e362a0b-f02b-4b69-9981-1c2af8e3621f",
   "metadata": {},
   "outputs": [],
   "source": [
    "# Example arrays for correlation\n",
    "#Your code goes here\n",
    "\n",
    "# Calculate correlation coefficient\n",
    "#Your code goes here"
   ]
  },
  {
   "cell_type": "markdown",
   "id": "1c8d8201-cd26-40ac-a7f6-6c1803e48326",
   "metadata": {},
   "source": [
    "The correlation coefficient matrix shows the relationship between **arr_x** and **arr_y**. A value close to -1 indicates a strong negative correlation, while a value close to 1 indicates a strong positive correlation."
   ]
  },
  {
   "cell_type": "markdown",
   "id": "de229522-fcd8-42b3-bbab-1cc3c65e8e70",
   "metadata": {},
   "source": [
    "### Other Operations\n",
    "#### Indexing\n",
    "\n",
    "You can access individual elements of an array using indexing:"
   ]
  },
  {
   "cell_type": "code",
   "execution_count": 34,
   "id": "41975b80-d5db-44d4-b143-83dd452f030b",
   "metadata": {},
   "outputs": [],
   "source": [
    "arr_1d = np.array([1, 2, 3, 4, 5])\n",
    "arr_2d = np.array([\n",
    "    [10, 20, 30],\n",
    "    [40, 50, 60],\n",
    "    [70, 80, 90]\n",
    "])\n",
    "#Your code goes here"
   ]
  },
  {
   "cell_type": "markdown",
   "id": "be904193-30f8-4f99-b6c6-75d25bd9e85e",
   "metadata": {},
   "source": [
    "This code retrieves the first element of the 1D array **arr_1d** and the element located at row 1, column 2 in the 2D array **arr_2d**."
   ]
  },
  {
   "cell_type": "markdown",
   "id": "97318ea5-ee3f-443f-ae52-bbc5df320d96",
   "metadata": {},
   "source": [
    "#### Slicing\n",
    "Slicing allows you to access a subset of an array:"
   ]
  },
  {
   "cell_type": "code",
   "execution_count": 25,
   "id": "5ab65891-dce3-4d38-a578-dca30d7f45f6",
   "metadata": {},
   "outputs": [],
   "source": [
    "# Slicing a 1D array\n",
    "#Your code goes here"
   ]
  },
  {
   "cell_type": "markdown",
   "id": "65c2e38d-e7a8-4d69-884e-808aa94ea404",
   "metadata": {},
   "source": [
    "This retrieves a slice of the 1D array, including elements from index 1 up to, but not including, index 4."
   ]
  },
  {
   "cell_type": "code",
   "execution_count": 26,
   "id": "74d9e8e7-72c8-4031-a91f-096f9d926bab",
   "metadata": {},
   "outputs": [],
   "source": [
    "# Slicing a 2D array\n",
    "#Your code goes here"
   ]
  },
  {
   "cell_type": "markdown",
   "id": "4003d119-183e-4b4f-9341-3674cc54de0c",
   "metadata": {},
   "source": [
    "Here, we extract the first row of the 2D array and the second column using slicing. The : operator means \"select all elements in this dimension.\""
   ]
  },
  {
   "cell_type": "markdown",
   "id": "14c77440-2d06-46b0-9888-ee71b9413cea",
   "metadata": {},
   "source": [
    "#### Reshaping Arrays\n",
    "You can change the shape of an array without changing its data using the **reshape()** method:"
   ]
  },
  {
   "cell_type": "code",
   "execution_count": 27,
   "id": "eb2e6a16-f86f-4c3a-972a-d4094c68c78e",
   "metadata": {},
   "outputs": [],
   "source": [
    "#Your code goes here"
   ]
  },
  {
   "cell_type": "markdown",
   "id": "1db96422-bda6-4000-8d2e-1f192a4799e8",
   "metadata": {},
   "source": [
    "In this code, we reshape the 1D array arr_1d into a 5x1 array. The total number of elements remains the same, but the structure changes."
   ]
  },
  {
   "cell_type": "markdown",
   "id": "655cd1f0-2aeb-48d8-809e-6d697829be41",
   "metadata": {},
   "source": [
    "#### Joining Arrays\n",
    "NumPy allows you to **concatenate (join)** arrays using functions like **np.concatenate()**, **np.vstack()** (for vertical stacking), and **np.hstack()** (for horizontal stacking):"
   ]
  },
  {
   "cell_type": "code",
   "execution_count": 33,
   "id": "00b16d64-2d78-4d93-bc49-9b8655ed9a6c",
   "metadata": {},
   "outputs": [],
   "source": [
    "arr_a = np.array([1, 2, 3])\n",
    "arr_b = np.array([4, 5, 6])\n",
    "\n",
    "# Joining 1D arrays\n",
    "#Your code goes here"
   ]
  },
  {
   "cell_type": "markdown",
   "id": "99d4dea9-f60f-4902-b1c7-7a73950e4fe9",
   "metadata": {},
   "source": [
    "Here, we concatenate **arr_a** and **arr_b** into a single 1D array containing all their elements."
   ]
  },
  {
   "cell_type": "code",
   "execution_count": 32,
   "id": "c6342aed-1361-402f-8cd2-83640acfb11d",
   "metadata": {},
   "outputs": [],
   "source": [
    "# Joining 2D arrays\n",
    "arr_2d_1 = np.array([[1, 2], [3, 4]])\n",
    "arr_2d_2 = np.array([[5, 6], [7, 8]])\n",
    "\n",
    "#Your code goes here"
   ]
  },
  {
   "cell_type": "markdown",
   "id": "a423bd98-f4ff-4fd2-80d0-d0b2ccc4be46",
   "metadata": {},
   "source": [
    "In this example, we create two 2D arrays and stack them vertically, resulting in a new array with four rows."
   ]
  },
  {
   "cell_type": "code",
   "execution_count": 29,
   "id": "6c830e4f-d0da-41a1-a46a-6eaa0099c2cb",
   "metadata": {},
   "outputs": [],
   "source": [
    "#Your code goes here"
   ]
  },
  {
   "cell_type": "markdown",
   "id": "be3f23ea-6432-416e-93db-16a8cfd979a1",
   "metadata": {},
   "source": [
    "Similarly, we stack the two 2D arrays horizontally, which combines the columns."
   ]
  },
  {
   "cell_type": "markdown",
   "id": "0ee5585b-a348-4384-8455-384fab28300e",
   "metadata": {},
   "source": [
    "#### Splitting Arrays\n",
    "The **np.split()** function splits an array into multiple sub-arrays along a specified axis. The function takes two main arguments: the array to split and the number of splits you want to make."
   ]
  },
  {
   "cell_type": "code",
   "execution_count": 31,
   "id": "39be5741-595a-48c1-9be5-694b3045d63a",
   "metadata": {},
   "outputs": [],
   "source": [
    "# Create a 1D array\n",
    "joined_array = np.array([1, 2, 3, 4, 5, 6, 7, 8, 9, 10])\n",
    "#Your code goes here\n",
    "\n",
    "# Split the array into 2 equal parts\n",
    "#Your code goes here"
   ]
  },
  {
   "cell_type": "markdown",
   "id": "e04f7b04-84dd-47bd-a94b-2f49bb3e5789",
   "metadata": {},
   "source": [
    "We create a **1D array**, joined_array, containing ten elements, and the **np.split(joined_array, 2)** function is used to split the array into two equal parts, resulting in a list of sub-arrays. \n",
    "\n",
    "It's important to note that if the number of elements in the original array is not evenly divisible by the number of splits specified, NumPy will raise a *ValueError*."
   ]
  }
 ],
 "metadata": {
  "kernelspec": {
   "display_name": "Python 3 (ipykernel)",
   "language": "python",
   "name": "python3"
  },
  "language_info": {
   "codemirror_mode": {
    "name": "ipython",
    "version": 3
   },
   "file_extension": ".py",
   "mimetype": "text/x-python",
   "name": "python",
   "nbconvert_exporter": "python",
   "pygments_lexer": "ipython3",
   "version": "3.12.7"
  }
 },
 "nbformat": 4,
 "nbformat_minor": 5
}
